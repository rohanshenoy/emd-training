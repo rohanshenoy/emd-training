{
 "cells": [
  {
   "cell_type": "code",
   "execution_count": null,
   "metadata": {},
   "outputs": [],
   "source": [
    "import qkeras\n",
    "import tensorflow\n",
    "from tensorflow.keras.models import model_from_json\n",
    "from qkeras.utils import _add_supported_quantized_objects\n",
    "from tensorflow.keras.layers import Input\n",
    "import tensorflow as tf \n",
    "\n",
    "co = {}\n",
    "_add_supported_quantized_objects(co)\n",
    "\n",
    "def load_model(file_path):\n",
    "    return tensorflow.keras.models.load_model(file_path, custom_objects=co)\n",
    "\n",
    "json_file = open('Nov10_8x8_c8_S2.json', 'r')\n",
    "loaded_model_json = json_file.read()\n",
    "json_file.close()\n",
    "model = model_from_json(loaded_model_json)\n",
    "model.load_weights('Nov10_8x8_c8_S2.hdf5') \n",
    "model.summary()\n",
    "\n",
    "input_layer = None\n",
    "output_layer = None\n",
    "\n",
    "for layer0 in model.layers:\n",
    "    if hasattr(layer0,'layers'):\n",
    "        for layer1 in layer0.layers:\n",
    "            print(layer1.name, layer1.__class__.__name__, layer1.get_config())\n",
    "    else:\n",
    "\n",
    "        print(layer0.name, layer0.__class__.__name__, layer0.get_config())"
   ]
  },
  {
   "cell_type": "code",
   "execution_count": null,
   "metadata": {
    "scrolled": false
   },
   "outputs": [],
   "source": [
    "from emdloss import emd_loss\n",
    "model.summary()\n",
    "\n",
    "y_true = tf.zeros((32, 8, 8, 1), dtype=tf.dtypes.float32)\n",
    "y_pred = model(y_true)\n",
    "\n",
    "emd_loss(y_true, y_pred)"
   ]
  },
  {
   "cell_type": "code",
   "execution_count": null,
   "metadata": {},
   "outputs": [],
   "source": []
  }
 ],
 "metadata": {
  "kernelspec": {
   "display_name": "Python 3",
   "language": "python",
   "name": "python3"
  },
  "language_info": {
   "codemirror_mode": {
    "name": "ipython",
    "version": 3
   },
   "file_extension": ".py",
   "mimetype": "text/x-python",
   "name": "python",
   "nbconvert_exporter": "python",
   "pygments_lexer": "ipython3",
   "version": "3.7.10"
  }
 },
 "nbformat": 4,
 "nbformat_minor": 4
}
